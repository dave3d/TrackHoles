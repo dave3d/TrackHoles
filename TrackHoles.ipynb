{
 "cells": [
  {
   "cell_type": "code",
   "execution_count": null,
   "metadata": {},
   "outputs": [],
   "source": [
    "%matplotlib notebook\n",
    "\n",
    "import SimpleITK as sitk\n",
    "#import itkwidgets\n",
    "import os, glob, re, math, sys"
   ]
  },
  {
   "cell_type": "code",
   "execution_count": null,
   "metadata": {},
   "outputs": [],
   "source": [
    "import filebrowser\n",
    "\n",
    "f=filebrowser.FileBrowser()\n",
    "print(\"Select an image from a series\")\n",
    "f.widget()"
   ]
  },
  {
   "cell_type": "code",
   "execution_count": null,
   "metadata": {},
   "outputs": [],
   "source": [
    "# strip off the last 7 characters (###.tif) and replace with *.tif\n",
    "search_string = f.path[:-7]+'*.tif'\n",
    "search_string"
   ]
  },
  {
   "cell_type": "code",
   "execution_count": null,
   "metadata": {},
   "outputs": [],
   "source": [
    "import load_slices\n",
    "slices = load_slices.load_slices(search_string)"
   ]
  },
  {
   "cell_type": "code",
   "execution_count": null,
   "metadata": {
    "scrolled": false
   },
   "outputs": [],
   "source": [
    "import gui\n",
    "v = sitk.JoinSeries(slices)\n",
    "\n",
    "acquire_centers = gui.PointDataAquisition(v)"
   ]
  },
  {
   "cell_type": "code",
   "execution_count": null,
   "metadata": {},
   "outputs": [],
   "source": [
    "import itkwidgets\n",
    "itkwidgets.view(v, mode='z', cmap='Grayscale')"
   ]
  },
  {
   "cell_type": "code",
   "execution_count": null,
   "metadata": {
    "scrolled": true
   },
   "outputs": [],
   "source": [
    "import segment\n",
    "\n",
    "bg = segment.segmentSeriesBackgrounds(slices)\n",
    "\n",
    "v = sitk.JoinSeries(bg) * 255\n",
    "itkwidgets.view(v, mode='z', cmap='Grayscale')"
   ]
  },
  {
   "cell_type": "code",
   "execution_count": null,
   "metadata": {},
   "outputs": [],
   "source": [
    "seeds=[]\n",
    "first_z = 0\n",
    "picked_seeds = acquire_centers.get_point_indexes()\n",
    "if len(picked_seeds) != 2:\n",
    "    print(\"Warning: there should be two seed points\")\n",
    "    if picked_seeds[0][2] != picked_seeds[1][2]:\n",
    "        print(\"Warning: the two seeds are on different slices, using the larger of the two.\")\n",
    "else:\n",
    "    print(picked_seeds)\n",
    "\n",
    "    # transform the picked seeds to physical space\n",
    "    first_z = max(picked_seeds[0][2], picked_seeds[1][2])\n",
    "    first_bg = bg[first_z]\n",
    "    for seed in picked_seeds:\n",
    "        seed_tf = first_bg.TransformIndexToPhysicalPoint(seed[0:2])\n",
    "        seeds.append(seed_tf)\n",
    "    print(seeds)"
   ]
  },
  {
   "cell_type": "code",
   "execution_count": null,
   "metadata": {},
   "outputs": [],
   "source": [
    "# Locations of the two holes in physical space\n",
    "# These seeds sets are used if the interactive seed picking above didn't happen.\n",
    "\n",
    "# seeds for initial test data set: /Slice & View 01-31/Images/SEM Image\n",
    "if len(seeds) == 0:\n",
    "    seeds=[[962,1641],[5293,1660]]\n",
    "\n",
    "# seeds for 2/18 data set: Slice & View 02-18/Images/SEM Multi-Detector Image\n",
    "if len(seeds) == 0:\n",
    "    seeds = [ [678, 216], [618,3456]]"
   ]
  },
  {
   "cell_type": "code",
   "execution_count": null,
   "metadata": {},
   "outputs": [],
   "source": [
    "import importlib\n",
    "import track_hole\n",
    "importlib.reload(track_hole)\n",
    "\n",
    "radius = 500\n",
    "\n",
    "all_ellipses = []\n",
    "snum=0\n",
    "for seed in seeds:\n",
    "    seed_ellipses = track_hole.track_hole(seed, radius, bg, first_z)\n",
    "    all_ellipses.extend(seed_ellipses)\n",
    "#print(all_ellipses)"
   ]
  },
  {
   "cell_type": "code",
   "execution_count": null,
   "metadata": {},
   "outputs": [],
   "source": [
    "import numpy as np\n",
    "def ellipses2pointset(elist):\n",
    "    \"\"\" convert ellipse centers to a numpy array \"\"\"\n",
    "    centers = []\n",
    "    for e in elist:\n",
    "        c = e[0]\n",
    "        centers.append(c)\n",
    "    np_points = np.array(centers)\n",
    "    return np_points"
   ]
  },
  {
   "cell_type": "code",
   "execution_count": null,
   "metadata": {},
   "outputs": [],
   "source": [
    "pts = ellipses2pointset(all_ellipses)\n",
    "#print(pts)"
   ]
  },
  {
   "cell_type": "code",
   "execution_count": null,
   "metadata": {
    "scrolled": true
   },
   "outputs": [],
   "source": [
    "itkwidgets.view(v, mode='z', cmap='Grayscale',point_sets=[pts])"
   ]
  },
  {
   "cell_type": "code",
   "execution_count": null,
   "metadata": {},
   "outputs": [],
   "source": [
    "import ipywidgets as widgets\n",
    "w = widgets.Text(\n",
    "    value='',\n",
    "    description='Output file'\n",
    ")\n",
    "display(w)"
   ]
  },
  {
   "cell_type": "code",
   "execution_count": null,
   "metadata": {},
   "outputs": [],
   "source": [
    "print (w.value)"
   ]
  },
  {
   "cell_type": "code",
   "execution_count": null,
   "metadata": {},
   "outputs": [],
   "source": [
    "#import importlib\n",
    "import output\n",
    "#importlib.reload(output)\n",
    "output.write_results(all_ellipses, w.value)"
   ]
  },
  {
   "cell_type": "code",
   "execution_count": null,
   "metadata": {},
   "outputs": [],
   "source": []
  }
 ],
 "metadata": {
  "kernelspec": {
   "display_name": "Python 3",
   "language": "python",
   "name": "python3"
  },
  "language_info": {
   "codemirror_mode": {
    "name": "ipython",
    "version": 3
   },
   "file_extension": ".py",
   "mimetype": "text/x-python",
   "name": "python",
   "nbconvert_exporter": "python",
   "pygments_lexer": "ipython3",
   "version": "3.7.7"
  }
 },
 "nbformat": 4,
 "nbformat_minor": 4
}
