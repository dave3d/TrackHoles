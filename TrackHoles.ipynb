{
 "cells": [
  {
   "cell_type": "code",
   "execution_count": null,
   "metadata": {},
   "outputs": [],
   "source": [
    "%matplotlib notebook\n",
    "\n",
    "import SimpleITK as sitk\n",
    "#import itkwidgets\n",
    "import os, glob, re, math, sys"
   ]
  },
  {
   "cell_type": "code",
   "execution_count": null,
   "metadata": {},
   "outputs": [],
   "source": [
    "import filebrowser"
   ]
  },
  {
   "cell_type": "code",
   "execution_count": null,
   "metadata": {},
   "outputs": [],
   "source": [
    "f=filebrowser.FileBrowser()\n",
    "print(\"Select an image from a series\")\n",
    "f.widget()"
   ]
  },
  {
   "cell_type": "code",
   "execution_count": null,
   "metadata": {},
   "outputs": [],
   "source": [
    "# strip off the last 7 characters (###.tif) and replace with *.tif\n",
    "search_string = f.path[:-7]+'*.tif'\n",
    "search_string"
   ]
  },
  {
   "cell_type": "code",
   "execution_count": null,
   "metadata": {},
   "outputs": [],
   "source": [
    "file_names = glob.glob(search_string)\n",
    "file_names.sort()\n",
    "print (file_names[0])\n",
    "print (\"  ...\")\n",
    "print (file_names[len(file_names)-1])\n",
    "print(len(file_names), \"files\")"
   ]
  },
  {
   "cell_type": "code",
   "execution_count": null,
   "metadata": {},
   "outputs": [],
   "source": [
    "# Read the header of the first image to get image size\n",
    "reader = sitk.ImageFileReader()\n",
    "reader.SetFileName(file_names[0])\n",
    "reader.ReadImageInformation()\n",
    "size = reader.GetSize()\n",
    "bin_amount = int(size[0]/1000+0.5)\n",
    "print(\"Image width =\", size[0])\n",
    "print(\"Binning by\", bin_amount)"
   ]
  },
  {
   "cell_type": "code",
   "execution_count": null,
   "metadata": {},
   "outputs": [],
   "source": [
    "#images are shrunk to less than 1000x1000\n",
    "slices = []\n",
    "n = len(file_names)\n",
    "#n = 40\n",
    "\n",
    "for i in range(n):\n",
    "    try:\n",
    "        slices.append(sitk.BinShrink(sitk.ReadImage(file_names[i]),[bin_amount,bin_amount]))\n",
    "        print (i, end=' ')\n",
    "    except:\n",
    "        print(\"\\nError: couldn't read file\", file_names[i])\n",
    "        break"
   ]
  },
  {
   "cell_type": "code",
   "execution_count": null,
   "metadata": {},
   "outputs": [],
   "source": [
    "print (file_names)"
   ]
  },
  {
   "cell_type": "code",
   "execution_count": null,
   "metadata": {
    "scrolled": false
   },
   "outputs": [],
   "source": [
    "import gui\n",
    "v = sitk.JoinSeries(slices)\n",
    "\n",
    "acquire_centers = gui.PointDataAquisition(v)"
   ]
  },
  {
   "cell_type": "code",
   "execution_count": null,
   "metadata": {},
   "outputs": [],
   "source": [
    "import itkwidgets\n",
    "itkwidgets.view(v, mode='z', cmap='Grayscale')"
   ]
  },
  {
   "cell_type": "code",
   "execution_count": null,
   "metadata": {},
   "outputs": [],
   "source": [
    "def segmentBackground(img):\n",
    "    \"\"\" segment the image background.\n",
    "    \n",
    "    It does this by thesholding, applying a median filter,\n",
    "    eroding, and selecting the largest connected component.\n",
    "    \"\"\"\n",
    "    thresh = sitk.Median(sitk.BinaryThreshold(img, 15000, 36000),[2,2])\n",
    "    erode = sitk.BinaryErode(thresh,[1,1])\n",
    "    # selects the largest connected component\n",
    "    connected = sitk.Cast(sitk.ConnectedComponent(erode), sitk.sitkUInt8)==1\n",
    "    return connected"
   ]
  },
  {
   "cell_type": "code",
   "execution_count": null,
   "metadata": {
    "scrolled": true
   },
   "outputs": [],
   "source": [
    "bg=[]\n",
    "for s in slices:\n",
    "    bg.append(segmentBackground(s))\n",
    "    \n",
    "v = sitk.JoinSeries(bg) * 255\n",
    "itkwidgets.view(v, mode='z', cmap='Grayscale')"
   ]
  },
  {
   "cell_type": "code",
   "execution_count": null,
   "metadata": {},
   "outputs": [],
   "source": [
    "def computeExtents(img, center, radius):\n",
    "    \"\"\" Compute the extents of a region in index space given its center and radius in physical space \"\"\"\n",
    "    # corners in physical space\n",
    "    mincorner = [center[0]-radius, center[1]-radius]\n",
    "    maxcorner = [center[0]+radius, center[1]+radius]\n",
    "    \n",
    "    minindex = list(img.TransformPhysicalPointToIndex(mincorner))\n",
    "    maxindex = list(img.TransformPhysicalPointToIndex(maxcorner))\n",
    "    size = img.GetSize()\n",
    "    for i in range(2):\n",
    "        if minindex[i]<0:\n",
    "            minindex[i]=0\n",
    "        if maxindex[i] >= size[i]:\n",
    "            maxindex[i]=size[i]-1\n",
    "    return minindex, maxindex\n",
    "\n",
    "def findEllipse(img, center, radius):\n",
    "    \"\"\" Find an ellipse given an approximate center and radius in physical space \"\"\"\n",
    "    minindex, maxindex = computeExtents(img, center, radius)\n",
    "    #sitk.Show(img)\n",
    "    cropped = img[minindex[0]:maxindex[0], minindex[1]:maxindex[1]]\n",
    "    #sitk.Show(cropped)\n",
    "    stats = sitk.LabelShapeStatisticsImageFilter()\n",
    "    stats.Execute(cropped)\n",
    "    if stats.GetNumberOfLabels() == 0:\n",
    "        print(\"Uh-oh: no labels\")\n",
    "        print (minindex, maxindex)\n",
    "        try:\n",
    "            sitk.Show(cropped)\n",
    "        except:\n",
    "            print(\"No show\")\n",
    "        return None, None\n",
    "    c = stats.GetCentroid(1)\n",
    "    axes = stats.GetPrincipalAxes(1)\n",
    "    moments = stats.GetPrincipalMoments(1)\n",
    "    #print(\"Center:\", c)\n",
    "    #print(\"Axes:\", axes)\n",
    "    return c, axes"
   ]
  },
  {
   "cell_type": "code",
   "execution_count": null,
   "metadata": {},
   "outputs": [],
   "source": [
    "seeds=[]\n",
    "picked_seeds = acquire_centers.get_point_indexes()\n",
    "if len(picked_seeds) != 2:\n",
    "    print(\"Warning: there should be two seed points\")\n",
    "    if picked_seeds[0][2] != picked_seeds[1][2]:\n",
    "        print(\"Warning: the two seeds are on different slices, using the larger of the two.\")\n",
    "else:\n",
    "    print(picked_seeds)\n",
    "\n",
    "    # transform the picked seeds to physical space\n",
    "    first_z = max(picked_seeds[0][2], picked_seeds[1][2])\n",
    "    first_bg = bg[first_z]\n",
    "    for seed in picked_seeds:\n",
    "        seed_tf = first_bg.TransformIndexToPhysicalPoint(seed[0:2])\n",
    "        seeds.append(seed_tf)\n",
    "    print(seeds)"
   ]
  },
  {
   "cell_type": "code",
   "execution_count": null,
   "metadata": {},
   "outputs": [],
   "source": [
    "# Locations of the two holes in physical space\n",
    "# These seeds sets are used if the interactive seed picking above didn't happen.\n",
    "\n",
    "# seeds for initial test data set: /Slice & View 01-31/Images/SEM Image\n",
    "if len(seeds) == 0:\n",
    "    seeds=[[962,1641],[5293,1660]]\n",
    "\n",
    "# seeds for 2/18 data set: Slice & View 02-18/Images/SEM Multi-Detector Image\n",
    "if len(seeds) == 0:\n",
    "    seeds = [ [678, 216], [618,3456]]"
   ]
  },
  {
   "cell_type": "code",
   "execution_count": null,
   "metadata": {},
   "outputs": [],
   "source": [
    "radius = 500\n",
    "\n",
    "all_ellipses = []\n",
    "\n",
    "for seed in seeds:\n",
    "    s = seed\n",
    "    z = 0\n",
    "    \n",
    "    # loop through all the background images\n",
    "    for b in bg:\n",
    "        # invert the background image to get the hole label image\n",
    "        label_img = 1-b\n",
    "        center, axes = findEllipse(label_img, s, radius)\n",
    "        \n",
    "        if center==None:\n",
    "            print(\"Failed on seed\", seed, \"Z=\",z)\n",
    "            try:\n",
    "                sitk.Show(label_img)\n",
    "            except:\n",
    "                print(\"No show\")\n",
    "            break\n",
    "        \n",
    "        # add Z coord for 3d ellipse\n",
    "        cz = [center[0], center[1], z]\n",
    "        axis1 = [axes[0], axes[1], 0]\n",
    "        axis2 = [axes[2], axes[3], 0]\n",
    "        ellipse = [cz, axis1, axis2]\n",
    "        all_ellipses.append(ellipse)\n",
    "\n",
    "        # set this ellipse center as the seed for the next Z image\n",
    "        s = center\n",
    "        z=z+1\n",
    "\n",
    "print(all_ellipses)"
   ]
  },
  {
   "cell_type": "code",
   "execution_count": null,
   "metadata": {},
   "outputs": [],
   "source": [
    "import numpy as np\n",
    "def ellipses2pointset(elist):\n",
    "    \"\"\" convert ellipse centers to a numpy array \"\"\"\n",
    "    centers = []\n",
    "    for e in elist:\n",
    "        c = e[0]\n",
    "        centers.append(c)\n",
    "    np_points = np.array(centers)\n",
    "    return np_points"
   ]
  },
  {
   "cell_type": "code",
   "execution_count": null,
   "metadata": {},
   "outputs": [],
   "source": [
    "pts = ellipses2pointset(all_ellipses)\n",
    "#print(pts)"
   ]
  },
  {
   "cell_type": "code",
   "execution_count": null,
   "metadata": {},
   "outputs": [],
   "source": [
    "itkwidgets.view(v, mode='z', cmap='Grayscale',point_sets=[pts])"
   ]
  },
  {
   "cell_type": "code",
   "execution_count": null,
   "metadata": {},
   "outputs": [],
   "source": [
    "import ipywidgets as widgets\n",
    "w = widgets.Text(\n",
    "    value='',\n",
    "    description='Output file'\n",
    ")\n",
    "display(w)"
   ]
  },
  {
   "cell_type": "code",
   "execution_count": null,
   "metadata": {},
   "outputs": [],
   "source": [
    "print (w.value)"
   ]
  },
  {
   "cell_type": "code",
   "execution_count": null,
   "metadata": {},
   "outputs": [],
   "source": [
    "import math\n",
    "# Write the results out\n",
    "if len(w.value) == 0:\n",
    "    outfile = sys.stdout\n",
    "else:\n",
    "    outfile = open(w.value, 'w')\n",
    "print(\"Centers\", file=outfile)\n",
    "for e in all_ellipses:\n",
    "    center = e[0]\n",
    "    print(\"%8.2f %8.2f %8.2f\" % (center[0], center[1], center[2]), file=outfile)\n",
    "    \n",
    "print(\"Inter Hole Distance\", file=outfile)\n",
    "distances=[]\n",
    "# this assumes that there are 2 seeds points resulting in pairs of ellipses\n",
    "n = int(len(all_ellipses)/2)\n",
    "for i in range(n):\n",
    "    e1 = all_ellipses[i]\n",
    "    e2 = all_ellipses[i+n]\n",
    "    dx = e1[0][0]-e2[0][0]\n",
    "    dy = e1[0][1]-e2[0][1]\n",
    "    d = math.sqrt(dx*dx + dy*dy)\n",
    "    distances.append(d)\n",
    "    print(\"%8.2f\" % (d), file=outfile)\n",
    "\n",
    "# change in distance through Z\n",
    "print(\"Change in IHD through Z\", file=outfile)\n",
    "dd_dz = []\n",
    "for i in range(n-1):\n",
    "    dz = distances[i+1]-distances[i]\n",
    "    dd_dz.append(dz)\n",
    "    print(\"%8.2f\" % (dz), file=outfile)\n",
    "    \n",
    "if outfile != sys.stdout:\n",
    "    outfile.close()"
   ]
  },
  {
   "cell_type": "code",
   "execution_count": null,
   "metadata": {},
   "outputs": [],
   "source": []
  }
 ],
 "metadata": {
  "kernelspec": {
   "display_name": "Python 3",
   "language": "python",
   "name": "python3"
  },
  "language_info": {
   "codemirror_mode": {
    "name": "ipython",
    "version": 3
   },
   "file_extension": ".py",
   "mimetype": "text/x-python",
   "name": "python",
   "nbconvert_exporter": "python",
   "pygments_lexer": "ipython3",
   "version": "3.7.6"
  }
 },
 "nbformat": 4,
 "nbformat_minor": 4
}
